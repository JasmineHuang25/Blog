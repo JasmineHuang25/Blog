{
 "cells": [
  {
   "cell_type": "markdown",
   "metadata": {},
   "source": [
    "# How to apply Data Science to my daily life\n",
    "\n",
    "As a mom and a wife, I have had my hands full just managing the everyday basis. The idea of enrolling into a bootcamp and learning Data science is definitely crazy!  Then, why did I do it?  Because I need it and I found myself actually love coding.  I have always loved doing puzzles and coding is like solving puzzle problems.  It’s fun and so rewarding!  Don’t get me wrong.  It’s certainly hard, especially for a newbie like me.  However, compared to parenting of a very energetic 5 years old boy and a somewhat babyish 45 years old hobby, coding is surely easier. Now I have survived for the 1st week.  I know I am capable of making it through the next 14 weeks!\n",
    "\n",
    "The key to success is Time Management.  Afterall, I am a mom and a wife.  I have tons of chores and work to do.  I need to utilize every chance and minute I get for study.  Besides, the best way for me to learn and to make sure I absorb it is for me to practice it in reality.  Based on the experience from the 1st week, I have come up with a study system that works very well for me.\n",
    "\n",
    "Every second counts!  Now I watch Youtube tutorials on my cell phone while cooking, cleaning, doing laundry…etc.  Those tutorials became my bedtime stories and the music to my ears.  It helps me with strengthening the concepts and fundamentals.  The more I listen to it, the more I am familiar with it.  Data Science is not so alien to me anymore.  Believe it or not.  A week ago, I didn't even know the word “depository”. Now I can “$ git commit” it!\n",
    "\n",
    "Another way for me to practice is applying what I learn to my daily life.  Here is my grocery shopping list looks like:"
   ]
  },
  {
   "cell_type": "code",
   "execution_count": 4,
   "metadata": {},
   "outputs": [
    {
     "name": "stdout",
     "output_type": "stream",
     "text": [
      "This is the shopping dict for Costco: {'egg': 1, 'milk': 2, 'oj': 1}\n",
      "This is the shopping dict for Kingsooper: {'banana': 6, 'apple': 6}\n"
     ]
    }
   ],
   "source": [
    "# create the shopping dict for each store\n",
    "costco = {\"egg\":1 , \"milk\":2 , \"oj\":1}\n",
    "kingsooper = {\"banana\":6 , \"apple\":6}\n",
    "print(\"This is the shopping dict for Costco:\", costco)\n",
    "print(\"This is the shopping dict for Kingsooper:\",kingsooper)"
   ]
  },
  {
   "cell_type": "code",
   "execution_count": 6,
   "metadata": {},
   "outputs": [
    {
     "name": "stdout",
     "output_type": "stream",
     "text": [
      "This is the combined shopping dict: {'costco': {'egg': 1, 'milk': 2, 'oj': 1}, 'kingsooper': {'banana': 6, 'apple': 6}}\n"
     ]
    }
   ],
   "source": [
    "# combined those shopping dict\n",
    "shopping_combined = {}\n",
    "shopping_combined[\"costco\"]=costco\n",
    "shopping_combined[\"kingsooper\"]=kingsooper\n",
    "print(\"This is the combined shopping dict:\",shopping_combined)"
   ]
  },
  {
   "cell_type": "code",
   "execution_count": 7,
   "metadata": {},
   "outputs": [],
   "source": [
    "import pandas as pd\n",
    "df = pd.DataFrame(shopping_combined)"
   ]
  },
  {
   "cell_type": "code",
   "execution_count": 8,
   "metadata": {},
   "outputs": [],
   "source": [
    "# add a new column for check \"Y/N\"\n",
    "df.insert(2, \"check\", \"Y / N\", allow_duplicates=True)"
   ]
  },
  {
   "cell_type": "code",
   "execution_count": 9,
   "metadata": {},
   "outputs": [],
   "source": [
    "# add new item from store to shopping_combined\n",
    "\n",
    "def add_item_store(item,store):\n",
    "    stores = [\"costco\", \"kingsooper\"]\n",
    "    insert_loc = 2\n",
    "    # insert_loc is the loc for DataFrame\n",
    "    \n",
    "    if store not in stores:    \n",
    "        shopping_combined[store] = item\n",
    "        stores.append(store)\n",
    "        insert_loc += 1\n",
    "    else:\n",
    "        shopping_combined[store].update(item)\n",
    "        \n",
    "    df = pd.DataFrame(shopping_combined)\n",
    "    df.insert(insert_loc, \"check\", \"Y/N\", allow_duplicates=True)\n",
    "    \n",
    "    return print(\"This is the new shopping list:\",shopping_combined, \"\\n\", df)"
   ]
  },
  {
   "cell_type": "code",
   "execution_count": 10,
   "metadata": {},
   "outputs": [
    {
     "name": "stdout",
     "output_type": "stream",
     "text": [
      "This is the new shopping list: {'costco': {'egg': 1, 'milk': 2, 'oj': 1, 'TP': 1}, 'kingsooper': {'banana': 6, 'apple': 6}} \n",
      "         costco  kingsooper check\n",
      "egg        1.0         NaN   Y/N\n",
      "milk       2.0         NaN   Y/N\n",
      "oj         1.0         NaN   Y/N\n",
      "TP         1.0         NaN   Y/N\n",
      "banana     NaN         6.0   Y/N\n",
      "apple      NaN         6.0   Y/N\n"
     ]
    }
   ],
   "source": [
    "# add a new item to an existing store\n",
    "add_item_store({\"TP\":1},\"costco\")"
   ]
  },
  {
   "cell_type": "code",
   "execution_count": 11,
   "metadata": {
    "scrolled": true
   },
   "outputs": [
    {
     "name": "stdout",
     "output_type": "stream",
     "text": [
      "This is the new shopping list: {'costco': {'egg': 1, 'milk': 2, 'oj': 1, 'TP': 1}, 'kingsooper': {'banana': 6, 'apple': 6}, \"Lamar's\": {'donut': 2}} \n",
      "         costco  kingsooper  Lamar's check\n",
      "egg        1.0         NaN      NaN   Y/N\n",
      "milk       2.0         NaN      NaN   Y/N\n",
      "oj         1.0         NaN      NaN   Y/N\n",
      "TP         1.0         NaN      NaN   Y/N\n",
      "banana     NaN         6.0      NaN   Y/N\n",
      "apple      NaN         6.0      NaN   Y/N\n",
      "donut      NaN         NaN      2.0   Y/N\n"
     ]
    }
   ],
   "source": [
    "# add a new item to a new store \n",
    "add_item_store({\"donut\":2},\"Lamar's\")"
   ]
  },
  {
   "cell_type": "raw",
   "metadata": {},
   "source": [
    "Another example.  Here is a text to my husband:\n",
    "# return True or False\n",
    "boo(are you pick up kid today)"
   ]
  },
  {
   "cell_type": "raw",
   "metadata": {},
   "source": [
    "The road is not easy but it’s fulfilling.  I can’t wait to see what more I can do with the skills and knowledge I learn at Flatiron school and who I can transform into.  I am excited about the new Git me!  My dog will be very excited too when I finish school so we can have more time to pay “$ git fetch”!"
   ]
  },
  {
   "cell_type": "code",
   "execution_count": 1,
   "metadata": {},
   "outputs": [
    {
     "data": {
      "text/html": [
       "<img src=\"https://media.giphy.com/media/iH6ZjzyLgZSt3j0zzG/giphy.gif\" width=\"500\"/>"
      ],
      "text/plain": [
       "<IPython.core.display.Image object>"
      ]
     },
     "execution_count": 1,
     "metadata": {},
     "output_type": "execute_result"
    }
   ],
   "source": [
    "from IPython.display import Image\n",
    "\n",
    "# define image_url variable\n",
    "image_url = \"https://media.giphy.com/media/iH6ZjzyLgZSt3j0zzG/giphy.gif\"\n",
    "\n",
    "# display image using url and specific width set at 500\n",
    "Image(url=image_url, width=500)"
   ]
  },
  {
   "cell_type": "raw",
   "metadata": {},
   "source": [
    "# Edited on 11/06/2022 by Jasmine Huang in Denver Colorado"
   ]
  }
 ],
 "metadata": {
  "kernelspec": {
   "display_name": "Python (learn-env)",
   "language": "python",
   "name": "learn-env"
  },
  "language_info": {
   "codemirror_mode": {
    "name": "ipython",
    "version": 3
   },
   "file_extension": ".py",
   "mimetype": "text/x-python",
   "name": "python",
   "nbconvert_exporter": "python",
   "pygments_lexer": "ipython3",
   "version": "3.8.5"
  }
 },
 "nbformat": 4,
 "nbformat_minor": 4
}
